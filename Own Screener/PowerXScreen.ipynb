{
 "metadata": {
  "language_info": {
   "codemirror_mode": {
    "name": "ipython",
    "version": 3
   },
   "file_extension": ".py",
   "mimetype": "text/x-python",
   "name": "python",
   "nbconvert_exporter": "python",
   "pygments_lexer": "ipython3",
   "version": "3.8.6-final"
  },
  "orig_nbformat": 2,
  "kernelspec": {
   "name": "python3",
   "display_name": "Python 3.8.6 32-bit",
   "metadata": {
    "interpreter": {
     "hash": "a080e381fb8d998a55638006a69e5958108d914a9dc610571a96145ee1400b24"
    }
   }
  }
 },
 "nbformat": 4,
 "nbformat_minor": 2,
 "cells": [
  {
   "cell_type": "code",
   "execution_count": 5,
   "metadata": {},
   "outputs": [],
   "source": [
    "import os\n",
    "import pandas as pd\n",
    "import yfinance as yf\n",
    "from ta.momentum import RSIIndicator, stochrsi_k\n",
    "from ta.trend import MACD as md\n",
    "from ta.volatility import AverageTrueRange as atr"
   ]
  },
  {
   "source": [
    "# Technical Scanner"
   ],
   "cell_type": "markdown",
   "metadata": {}
  },
  {
   "cell_type": "code",
   "execution_count": 37,
   "metadata": {
    "tags": []
   },
   "outputs": [
    {
     "output_type": "stream",
     "name": "stdout",
     "text": [
      "BIG\n",
      "[*********************100%***********************]  1 of 1 completed\n",
      "NVDA\n",
      "[*********************100%***********************]  1 of 1 completed\n",
      "AMD\n",
      "[*********************100%***********************]  1 of 1 completed\n",
      "DHI\n",
      "[*********************100%***********************]  1 of 1 completed\n",
      "VEEV\n",
      "[*********************100%***********************]  1 of 1 completed\n",
      "PFSI\n",
      "[*********************100%***********************]  1 of 1 completed\n",
      "ADBE\n",
      "[*********************100%***********************]  1 of 1 completed\n",
      "LOW\n",
      "[*********************100%***********************]  1 of 1 completed\n",
      "WST\n",
      "[*********************100%***********************]  1 of 1 completed\n",
      "PLMR\n",
      "[*********************100%***********************]  1 of 1 completed\n",
      "ENTG\n",
      "[*********************100%***********************]  1 of 1 completed\n",
      "STMP\n",
      "[*********************100%***********************]  1 of 1 completed\n",
      "AMZN\n",
      "[*********************100%***********************]  1 of 1 completed\n",
      "PYPL\n",
      "[*********************100%***********************]  1 of 1 completed\n",
      "CDNS\n",
      "[*********************100%***********************]  1 of 1 completed\n",
      "NFLX\n",
      "[*********************100%***********************]  1 of 1 completed\n",
      "DG\n",
      "[*********************100%***********************]  1 of 1 completed\n",
      "TSCO\n",
      "[*********************100%***********************]  1 of 1 completed\n",
      "EBS\n",
      "[*********************100%***********************]  1 of 1 completed\n",
      "FIZZ\n",
      "[*********************100%***********************]  1 of 1 completed\n",
      "SNPS\n",
      "[*********************100%***********************]  1 of 1 completed\n",
      "WDAY\n",
      "[*********************100%***********************]  1 of 1 completed\n",
      "MRVL\n",
      "[*********************100%***********************]  1 of 1 completed\n",
      "IPHI\n",
      "[*********************100%***********************]  1 of 1 completed\n",
      "PKI\n",
      "[*********************100%***********************]  1 of 1 completed\n",
      "KL\n",
      "[*********************100%***********************]  1 of 1 completed\n",
      "VRTX\n",
      "[*********************100%***********************]  1 of 1 completed\n",
      "TMO\n",
      "[*********************100%***********************]  1 of 1 completed\n",
      "BABA\n",
      "[*********************100%***********************]  1 of 1 completed\n",
      "XP\n",
      "[*********************100%***********************]  1 of 1 completed\n",
      "MSFT\n",
      "[*********************100%***********************]  1 of 1 completed\n",
      "TER\n",
      "[*********************100%***********************]  1 of 1 completed\n",
      "VIRT\n",
      "[*********************100%***********************]  1 of 1 completed\n",
      "NDAQ\n",
      "[*********************100%***********************]  1 of 1 completed\n",
      "ASML\n",
      "[*********************100%***********************]  1 of 1 completed\n",
      "ATVI\n",
      "[*********************100%***********************]  1 of 1 completed\n",
      "BERY\n",
      "[*********************100%***********************]  1 of 1 completed\n",
      "AKAM\n",
      "[*********************100%***********************]  1 of 1 completed\n",
      "FUTU\n",
      "[*********************100%***********************]  1 of 1 completed\n",
      "APPS\n",
      "[*********************100%***********************]  1 of 1 completed\n",
      "IIPR\n",
      "[*********************100%***********************]  1 of 1 completed\n",
      "INTU\n",
      "[*********************100%***********************]  1 of 1 completed\n",
      "SCPL\n",
      "[*********************100%***********************]  1 of 1 completed\n",
      "IR\n",
      "[*********************100%***********************]  1 of 1 completed\n",
      "PANW\n",
      "[*********************100%***********************]  1 of 1 completed\n",
      "BMY\n",
      "[*********************100%***********************]  1 of 1 completed\n",
      "FTNT\n",
      "[*********************100%***********************]  1 of 1 completed\n",
      "ALXN\n",
      "[*********************100%***********************]  1 of 1 completed\n",
      "PETS\n",
      "[*********************100%***********************]  1 of 1 completed\n",
      "HZNP\n",
      "[*********************100%***********************]  1 of 1 completed\n"
     ]
    }
   ],
   "source": [
    "dataframes = {}\n",
    "buys = {}\n",
    "sells = {}\n",
    "buy_list = []\n",
    "buy_list_sl = []\n",
    "buy_list_tp = []\n",
    "sell_list = []\n",
    "sell_list_tp = []\n",
    "sell_list_sl = []\n",
    "buy_list_sq = []\n",
    "sell_list_sq = []\n",
    "on_squeeze = []\n",
    "\n",
    "with open('ticker.csv') as f:\n",
    "    lines = f.read().splitlines()\n",
    "    for symbol in lines:\n",
    "        print(symbol)\n",
    "        data = yf.download(symbol, start=\"2020-01-01\", end=\"2020-11-26\")\n",
    "        df = pd.DataFrame(data)\n",
    "\n",
    "        if df.empty:\n",
    "            continue\n",
    "\n",
    "        RSI = RSIIndicator(close=df['Close'])\n",
    "        df[\"RSI\"] = RSI.rsi()\n",
    "\n",
    "        Stochk = stochrsi_k(close=df['Close'])\n",
    "        df[\"Stochk\"] = Stochk\n",
    "\n",
    "        MACD = md(close=df['Close'])\n",
    "        df[\"MACD_diff\"] = MACD.macd_diff()\n",
    "\n",
    "        AvgTru = atr(high=df['High'],low=df['Low'],close=df['Close'],n=7)\n",
    "        df[\"ATR\"] = AvgTru.average_true_range()\n",
    "\n",
    "        df[\"Signal\"] = \"\"\n",
    "\n",
    "        df['20sma'] = df['Close'].rolling(window=20).mean()\n",
    "        df['stddev'] = df['Close'].rolling(window=20).std()\n",
    "        df['lower_band'] = df['20sma'] - (2 * df['stddev'])\n",
    "        df['upper_band'] = df['20sma'] + (2 * df['stddev'])\n",
    "\n",
    "        df['TR'] = abs(df['High'] - df['Low'])\n",
    "        df['ATR'] = df['TR'].rolling(window=20).mean()\n",
    "\n",
    "        df['lower_keltner'] = df['20sma'] - (df['ATR'] * 1.5)\n",
    "        df['upper_keltner'] = df['20sma'] + (df['ATR'] * 1.5)\n",
    "\n",
    "        def in_squeeze(df):\n",
    "            return df['lower_band'] > df['lower_keltner'] and df['upper_band'] < df['upper_keltner']\n",
    "\n",
    "        df['squeeze_on'] = df.apply(in_squeeze, axis=1)\n",
    "\n",
    "        if df[\"squeeze_on\"].iloc[-1]==True:\n",
    "            on_squeeze.append(symbol)\n",
    "\n",
    "        for i in range(0,len(df)):\n",
    "            if df[\"RSI\"].iloc[i] > 50 and df[\"Stochk\"][i] > 50 and df[\"MACD_diff\"][i] > 0:\n",
    "                df[\"Signal\"][i] = \"Buy\"\n",
    "            elif df[\"RSI\"].iloc[i] < 50 and df[\"Stochk\"][i] < 50 and df[\"MACD_diff\"][i] < 0:\n",
    "                df[\"Signal\"][i] = \"Sell\"\n",
    "            else:\n",
    "                df[\"Signal\"][i] = \"Neutral\"\n",
    "\n",
    "        if df[\"Signal\"].iloc[-1] == \"Buy\" and (df[\"Signal\"].iloc[-2] != \"Buy\"):\n",
    "            buy_list.append(symbol)\n",
    "            buy_list_sl.append(df[\"Close\"].iloc[-1]-(df[\"ATR\"].iloc[-1]*1.4))\n",
    "            buy_list_tp.append(df[\"Close\"].iloc[-1]+(df[\"ATR\"].iloc[-1]*2.8))\n",
    "            buy_list_sq.append(df['squeeze_on'].iloc[-1])\n",
    "        elif df[\"Signal\"].iloc[-1] == \"Sell\" and (df[\"Signal\"].iloc[-2] != \"Sell\"):\n",
    "            sell_list.append(symbol)\n",
    "            sell_list_sl.append(df[\"Close\"].iloc[-1]+(df[\"ATR\"].iloc[-1]*1.4))\n",
    "            sell_list_tp.append(df[\"Close\"].iloc[-1]-(df[\"ATR\"].iloc[-1]*2.8))\n",
    "            sell_list_sq.append(df['squeeze_on'].iloc[-1])\n",
    "        else:\n",
    "            continue\n",
    "\n",
    "        buys = pd.DataFrame({\n",
    "            \"Symbol\" : buy_list,\n",
    "            \"SL\" : buy_list_sl,\n",
    "            \"TP\" : buy_list_tp,\n",
    "            \"Squeeze\" : buy_list_sq\n",
    "        })\n",
    "\n",
    "        sells = pd.DataFrame({\n",
    "            \"Symbol\" : sell_list,\n",
    "            \"SL\" : sell_list_sl,\n",
    "            \"TP\" : sell_list_tp,\n",
    "            \"Squeeze\" : sell_list_sq\n",
    "        })"
   ]
  },
  {
   "source": [
    "# Options Profit Calculator"
   ],
   "cell_type": "markdown",
   "metadata": {}
  },
  {
   "cell_type": "code",
   "execution_count": 44,
   "metadata": {},
   "outputs": [],
   "source": [
    "import mibian as mb\n",
    "import requests\n",
    "from bs4 import BeautifulSoup\n",
    "\n",
    "TREASURY_URL = \"https://www.marketwatch.com/investing/bond/tmubmusd03m?countrycode=bx\"\n",
    "OVERNIGHT_RATE = 0\n",
    "\n",
    "r = requests.get(TREASURY_URL)\n",
    "soup = BeautifulSoup(r.text, 'html.parser')\n",
    "\n",
    "rfr = float(soup.find('bg-quote',{\"class\": \"value\"}).string)"
   ]
  },
  {
   "cell_type": "code",
   "execution_count": 181,
   "metadata": {},
   "outputs": [
    {
     "output_type": "execute_result",
     "data": {
      "text/plain": [
       "0.7485376708984376"
      ]
     },
     "metadata": {},
     "execution_count": 181
    }
   ],
   "source": [
    "TICKER = \"SPY\"\n",
    "DATE = \"2020-11-27\"\n",
    "STRIKE = 330.0\n",
    "\n",
    "STK = yf.Ticker(TICKER)\n",
    "opt = STK.option_chain(DATE)\n",
    "optcc = opt.calls\n",
    "impv = float(optcc[optcc[\"strike\"]==STRIKE][\"impliedVolatility\"])"
   ]
  },
  {
   "cell_type": "code",
   "execution_count": 93,
   "metadata": {},
   "outputs": [
    {
     "output_type": "execute_result",
     "data": {
      "text/plain": [
       "363.22"
      ]
     },
     "metadata": {},
     "execution_count": 93
    }
   ],
   "source": [
    "SPY.info['previousClose']"
   ]
  },
  {
   "cell_type": "code",
   "execution_count": 57,
   "metadata": {},
   "outputs": [],
   "source": [
    "sim_list = []\n",
    "underlying_price = []\n",
    "\n",
    "for i in range(355,400,2):\n",
    "    underlying_price.append(i)\n",
    "    sim = mb.BS([i,float(narrow_df[\"strikePrice\"]),rfr,2],volatility=float(narrow_df[\"volatility\"]))\n",
    "    returns = (sim.callPrice - float(narrow_df[\"closePrice\"]))*100\n",
    "    sim_list.append(returns)\n",
    "    track = pd.DataFrame(\n",
    "            {\"Underlying\" : underlying_price,\n",
    "            \"Returns\" : sim_list\n",
    "            }\n",
    "    )"
   ]
  },
  {
   "cell_type": "code",
   "execution_count": 58,
   "metadata": {},
   "outputs": [],
   "source": [
    "import plotly.express as px"
   ]
  },
  {
   "cell_type": "code",
   "execution_count": 2,
   "metadata": {},
   "outputs": [],
   "source": [
    "import tdameritrade as td"
   ]
  },
  {
   "cell_type": "code",
   "execution_count": 59,
   "metadata": {},
   "outputs": [
    {
     "output_type": "display_data",
     "data": {
      "application/vnd.plotly.v1+json": {
       "config": {
        "plotlyServerURL": "https://plot.ly"
       },
       "data": [
        {
         "hovertemplate": "Underlying=%{x}<br>Returns=%{y}<extra></extra>",
         "legendgroup": "",
         "line": {
          "color": "#636efa",
          "dash": "solid"
         },
         "mode": "lines",
         "name": "",
         "orientation": "v",
         "showlegend": false,
         "type": "scatter",
         "x": [
          355,
          357,
          359,
          361,
          363,
          365,
          367,
          369,
          371,
          373,
          375,
          377,
          379,
          381,
          383,
          385,
          387,
          389,
          391,
          393,
          395,
          397,
          399
         ],
         "xaxis": "x",
         "y": [
          -974.0698811004364,
          -830.8701915461029,
          -665.387631917622,
          -484.23994001364576,
          -293.45949535301656,
          -97.4870156785073,
          100.94353621351502,
          300.39833039945734,
          500.2295040617241,
          700.1828891945934,
          900.1714054934951,
          1100.1688792365542,
          1300.168382475323,
          1500.1682950612462,
          1700.1682812794343,
          1900.168279330137,
          2100.1682790824643,
          2300.168279054162,
          2500.168279051246,
          2700.168279050979,
          2900.1682790509562,
          3100.1682790509503,
          3300.1682790509503
         ],
         "yaxis": "y"
        }
       ],
       "layout": {
        "legend": {
         "tracegroupgap": 0
        },
        "margin": {
         "t": 60
        },
        "template": {
         "data": {
          "bar": [
           {
            "error_x": {
             "color": "#2a3f5f"
            },
            "error_y": {
             "color": "#2a3f5f"
            },
            "marker": {
             "line": {
              "color": "#E5ECF6",
              "width": 0.5
             }
            },
            "type": "bar"
           }
          ],
          "barpolar": [
           {
            "marker": {
             "line": {
              "color": "#E5ECF6",
              "width": 0.5
             }
            },
            "type": "barpolar"
           }
          ],
          "carpet": [
           {
            "aaxis": {
             "endlinecolor": "#2a3f5f",
             "gridcolor": "white",
             "linecolor": "white",
             "minorgridcolor": "white",
             "startlinecolor": "#2a3f5f"
            },
            "baxis": {
             "endlinecolor": "#2a3f5f",
             "gridcolor": "white",
             "linecolor": "white",
             "minorgridcolor": "white",
             "startlinecolor": "#2a3f5f"
            },
            "type": "carpet"
           }
          ],
          "choropleth": [
           {
            "colorbar": {
             "outlinewidth": 0,
             "ticks": ""
            },
            "type": "choropleth"
           }
          ],
          "contour": [
           {
            "colorbar": {
             "outlinewidth": 0,
             "ticks": ""
            },
            "colorscale": [
             [
              0,
              "#0d0887"
             ],
             [
              0.1111111111111111,
              "#46039f"
             ],
             [
              0.2222222222222222,
              "#7201a8"
             ],
             [
              0.3333333333333333,
              "#9c179e"
             ],
             [
              0.4444444444444444,
              "#bd3786"
             ],
             [
              0.5555555555555556,
              "#d8576b"
             ],
             [
              0.6666666666666666,
              "#ed7953"
             ],
             [
              0.7777777777777778,
              "#fb9f3a"
             ],
             [
              0.8888888888888888,
              "#fdca26"
             ],
             [
              1,
              "#f0f921"
             ]
            ],
            "type": "contour"
           }
          ],
          "contourcarpet": [
           {
            "colorbar": {
             "outlinewidth": 0,
             "ticks": ""
            },
            "type": "contourcarpet"
           }
          ],
          "heatmap": [
           {
            "colorbar": {
             "outlinewidth": 0,
             "ticks": ""
            },
            "colorscale": [
             [
              0,
              "#0d0887"
             ],
             [
              0.1111111111111111,
              "#46039f"
             ],
             [
              0.2222222222222222,
              "#7201a8"
             ],
             [
              0.3333333333333333,
              "#9c179e"
             ],
             [
              0.4444444444444444,
              "#bd3786"
             ],
             [
              0.5555555555555556,
              "#d8576b"
             ],
             [
              0.6666666666666666,
              "#ed7953"
             ],
             [
              0.7777777777777778,
              "#fb9f3a"
             ],
             [
              0.8888888888888888,
              "#fdca26"
             ],
             [
              1,
              "#f0f921"
             ]
            ],
            "type": "heatmap"
           }
          ],
          "heatmapgl": [
           {
            "colorbar": {
             "outlinewidth": 0,
             "ticks": ""
            },
            "colorscale": [
             [
              0,
              "#0d0887"
             ],
             [
              0.1111111111111111,
              "#46039f"
             ],
             [
              0.2222222222222222,
              "#7201a8"
             ],
             [
              0.3333333333333333,
              "#9c179e"
             ],
             [
              0.4444444444444444,
              "#bd3786"
             ],
             [
              0.5555555555555556,
              "#d8576b"
             ],
             [
              0.6666666666666666,
              "#ed7953"
             ],
             [
              0.7777777777777778,
              "#fb9f3a"
             ],
             [
              0.8888888888888888,
              "#fdca26"
             ],
             [
              1,
              "#f0f921"
             ]
            ],
            "type": "heatmapgl"
           }
          ],
          "histogram": [
           {
            "marker": {
             "colorbar": {
              "outlinewidth": 0,
              "ticks": ""
             }
            },
            "type": "histogram"
           }
          ],
          "histogram2d": [
           {
            "colorbar": {
             "outlinewidth": 0,
             "ticks": ""
            },
            "colorscale": [
             [
              0,
              "#0d0887"
             ],
             [
              0.1111111111111111,
              "#46039f"
             ],
             [
              0.2222222222222222,
              "#7201a8"
             ],
             [
              0.3333333333333333,
              "#9c179e"
             ],
             [
              0.4444444444444444,
              "#bd3786"
             ],
             [
              0.5555555555555556,
              "#d8576b"
             ],
             [
              0.6666666666666666,
              "#ed7953"
             ],
             [
              0.7777777777777778,
              "#fb9f3a"
             ],
             [
              0.8888888888888888,
              "#fdca26"
             ],
             [
              1,
              "#f0f921"
             ]
            ],
            "type": "histogram2d"
           }
          ],
          "histogram2dcontour": [
           {
            "colorbar": {
             "outlinewidth": 0,
             "ticks": ""
            },
            "colorscale": [
             [
              0,
              "#0d0887"
             ],
             [
              0.1111111111111111,
              "#46039f"
             ],
             [
              0.2222222222222222,
              "#7201a8"
             ],
             [
              0.3333333333333333,
              "#9c179e"
             ],
             [
              0.4444444444444444,
              "#bd3786"
             ],
             [
              0.5555555555555556,
              "#d8576b"
             ],
             [
              0.6666666666666666,
              "#ed7953"
             ],
             [
              0.7777777777777778,
              "#fb9f3a"
             ],
             [
              0.8888888888888888,
              "#fdca26"
             ],
             [
              1,
              "#f0f921"
             ]
            ],
            "type": "histogram2dcontour"
           }
          ],
          "mesh3d": [
           {
            "colorbar": {
             "outlinewidth": 0,
             "ticks": ""
            },
            "type": "mesh3d"
           }
          ],
          "parcoords": [
           {
            "line": {
             "colorbar": {
              "outlinewidth": 0,
              "ticks": ""
             }
            },
            "type": "parcoords"
           }
          ],
          "pie": [
           {
            "automargin": true,
            "type": "pie"
           }
          ],
          "scatter": [
           {
            "marker": {
             "colorbar": {
              "outlinewidth": 0,
              "ticks": ""
             }
            },
            "type": "scatter"
           }
          ],
          "scatter3d": [
           {
            "line": {
             "colorbar": {
              "outlinewidth": 0,
              "ticks": ""
             }
            },
            "marker": {
             "colorbar": {
              "outlinewidth": 0,
              "ticks": ""
             }
            },
            "type": "scatter3d"
           }
          ],
          "scattercarpet": [
           {
            "marker": {
             "colorbar": {
              "outlinewidth": 0,
              "ticks": ""
             }
            },
            "type": "scattercarpet"
           }
          ],
          "scattergeo": [
           {
            "marker": {
             "colorbar": {
              "outlinewidth": 0,
              "ticks": ""
             }
            },
            "type": "scattergeo"
           }
          ],
          "scattergl": [
           {
            "marker": {
             "colorbar": {
              "outlinewidth": 0,
              "ticks": ""
             }
            },
            "type": "scattergl"
           }
          ],
          "scattermapbox": [
           {
            "marker": {
             "colorbar": {
              "outlinewidth": 0,
              "ticks": ""
             }
            },
            "type": "scattermapbox"
           }
          ],
          "scatterpolar": [
           {
            "marker": {
             "colorbar": {
              "outlinewidth": 0,
              "ticks": ""
             }
            },
            "type": "scatterpolar"
           }
          ],
          "scatterpolargl": [
           {
            "marker": {
             "colorbar": {
              "outlinewidth": 0,
              "ticks": ""
             }
            },
            "type": "scatterpolargl"
           }
          ],
          "scatterternary": [
           {
            "marker": {
             "colorbar": {
              "outlinewidth": 0,
              "ticks": ""
             }
            },
            "type": "scatterternary"
           }
          ],
          "surface": [
           {
            "colorbar": {
             "outlinewidth": 0,
             "ticks": ""
            },
            "colorscale": [
             [
              0,
              "#0d0887"
             ],
             [
              0.1111111111111111,
              "#46039f"
             ],
             [
              0.2222222222222222,
              "#7201a8"
             ],
             [
              0.3333333333333333,
              "#9c179e"
             ],
             [
              0.4444444444444444,
              "#bd3786"
             ],
             [
              0.5555555555555556,
              "#d8576b"
             ],
             [
              0.6666666666666666,
              "#ed7953"
             ],
             [
              0.7777777777777778,
              "#fb9f3a"
             ],
             [
              0.8888888888888888,
              "#fdca26"
             ],
             [
              1,
              "#f0f921"
             ]
            ],
            "type": "surface"
           }
          ],
          "table": [
           {
            "cells": {
             "fill": {
              "color": "#EBF0F8"
             },
             "line": {
              "color": "white"
             }
            },
            "header": {
             "fill": {
              "color": "#C8D4E3"
             },
             "line": {
              "color": "white"
             }
            },
            "type": "table"
           }
          ]
         },
         "layout": {
          "annotationdefaults": {
           "arrowcolor": "#2a3f5f",
           "arrowhead": 0,
           "arrowwidth": 1
          },
          "coloraxis": {
           "colorbar": {
            "outlinewidth": 0,
            "ticks": ""
           }
          },
          "colorscale": {
           "diverging": [
            [
             0,
             "#8e0152"
            ],
            [
             0.1,
             "#c51b7d"
            ],
            [
             0.2,
             "#de77ae"
            ],
            [
             0.3,
             "#f1b6da"
            ],
            [
             0.4,
             "#fde0ef"
            ],
            [
             0.5,
             "#f7f7f7"
            ],
            [
             0.6,
             "#e6f5d0"
            ],
            [
             0.7,
             "#b8e186"
            ],
            [
             0.8,
             "#7fbc41"
            ],
            [
             0.9,
             "#4d9221"
            ],
            [
             1,
             "#276419"
            ]
           ],
           "sequential": [
            [
             0,
             "#0d0887"
            ],
            [
             0.1111111111111111,
             "#46039f"
            ],
            [
             0.2222222222222222,
             "#7201a8"
            ],
            [
             0.3333333333333333,
             "#9c179e"
            ],
            [
             0.4444444444444444,
             "#bd3786"
            ],
            [
             0.5555555555555556,
             "#d8576b"
            ],
            [
             0.6666666666666666,
             "#ed7953"
            ],
            [
             0.7777777777777778,
             "#fb9f3a"
            ],
            [
             0.8888888888888888,
             "#fdca26"
            ],
            [
             1,
             "#f0f921"
            ]
           ],
           "sequentialminus": [
            [
             0,
             "#0d0887"
            ],
            [
             0.1111111111111111,
             "#46039f"
            ],
            [
             0.2222222222222222,
             "#7201a8"
            ],
            [
             0.3333333333333333,
             "#9c179e"
            ],
            [
             0.4444444444444444,
             "#bd3786"
            ],
            [
             0.5555555555555556,
             "#d8576b"
            ],
            [
             0.6666666666666666,
             "#ed7953"
            ],
            [
             0.7777777777777778,
             "#fb9f3a"
            ],
            [
             0.8888888888888888,
             "#fdca26"
            ],
            [
             1,
             "#f0f921"
            ]
           ]
          },
          "colorway": [
           "#636efa",
           "#EF553B",
           "#00cc96",
           "#ab63fa",
           "#FFA15A",
           "#19d3f3",
           "#FF6692",
           "#B6E880",
           "#FF97FF",
           "#FECB52"
          ],
          "font": {
           "color": "#2a3f5f"
          },
          "geo": {
           "bgcolor": "white",
           "lakecolor": "white",
           "landcolor": "#E5ECF6",
           "showlakes": true,
           "showland": true,
           "subunitcolor": "white"
          },
          "hoverlabel": {
           "align": "left"
          },
          "hovermode": "closest",
          "mapbox": {
           "style": "light"
          },
          "paper_bgcolor": "white",
          "plot_bgcolor": "#E5ECF6",
          "polar": {
           "angularaxis": {
            "gridcolor": "white",
            "linecolor": "white",
            "ticks": ""
           },
           "bgcolor": "#E5ECF6",
           "radialaxis": {
            "gridcolor": "white",
            "linecolor": "white",
            "ticks": ""
           }
          },
          "scene": {
           "xaxis": {
            "backgroundcolor": "#E5ECF6",
            "gridcolor": "white",
            "gridwidth": 2,
            "linecolor": "white",
            "showbackground": true,
            "ticks": "",
            "zerolinecolor": "white"
           },
           "yaxis": {
            "backgroundcolor": "#E5ECF6",
            "gridcolor": "white",
            "gridwidth": 2,
            "linecolor": "white",
            "showbackground": true,
            "ticks": "",
            "zerolinecolor": "white"
           },
           "zaxis": {
            "backgroundcolor": "#E5ECF6",
            "gridcolor": "white",
            "gridwidth": 2,
            "linecolor": "white",
            "showbackground": true,
            "ticks": "",
            "zerolinecolor": "white"
           }
          },
          "shapedefaults": {
           "line": {
            "color": "#2a3f5f"
           }
          },
          "ternary": {
           "aaxis": {
            "gridcolor": "white",
            "linecolor": "white",
            "ticks": ""
           },
           "baxis": {
            "gridcolor": "white",
            "linecolor": "white",
            "ticks": ""
           },
           "bgcolor": "#E5ECF6",
           "caxis": {
            "gridcolor": "white",
            "linecolor": "white",
            "ticks": ""
           }
          },
          "title": {
           "x": 0.05
          },
          "xaxis": {
           "automargin": true,
           "gridcolor": "white",
           "linecolor": "white",
           "ticks": "",
           "title": {
            "standoff": 15
           },
           "zerolinecolor": "white",
           "zerolinewidth": 2
          },
          "yaxis": {
           "automargin": true,
           "gridcolor": "white",
           "linecolor": "white",
           "ticks": "",
           "title": {
            "standoff": 15
           },
           "zerolinecolor": "white",
           "zerolinewidth": 2
          }
         }
        },
        "xaxis": {
         "anchor": "y",
         "domain": [
          0,
          1
         ],
         "title": {
          "text": "Underlying"
         }
        },
        "yaxis": {
         "anchor": "x",
         "domain": [
          0,
          1
         ],
         "title": {
          "text": "Returns"
         }
        }
       }
      }
     },
     "metadata": {}
    }
   ],
   "source": [
    "px.line(track, x=\"Underlying\", y=\"Returns\")"
   ]
  },
  {
   "source": [
    "# Options Delta Identifier"
   ],
   "cell_type": "markdown",
   "metadata": {}
  },
  {
   "cell_type": "code",
   "execution_count": 3,
   "metadata": {},
   "outputs": [],
   "source": [
    "client_id = \"DRSMU4TL964FO3QNBQHVL78X9SUPGGIL\"\n",
    "account_id = None\n",
    "refresh_token = \"9WBdSYb/o0eDYM6g9bQbdCOGFhWcg0ZloP5KfWdBWzeRNfRTqjnl6M9zzh4zr1oXzxk1EKIqzip77j7NqMcn160ZoHVBPOWmLMxiSpBaXVnBHcuk5VGBnNiPpFxbP5Ex1/nQx2nM3YvM/byNDpkI0zbRFvhsNMOClslJ+nyj2VGC167FHDTXIP3cLl1nQyd39WdWnafgXOIcVjZCOqGj+cIguNKv2NImj4OJSFF9BO2npMrbRyESGhHmTxPb3EMPPhdq18QDspBUfpeyVuO4Hwl7JnhbhUnZWRYSt0Gu0Phx6anlLkY641T54FngRvdHC9pobhSPTmSB9KOEL9IZjOTgNr0llWxzaTliuQdPsXYJizsjc42TkO9fc+YvGAyKm+oFYLbAqo1XZzODzi3lh2TW85eDbc+6MriMtmqSnMaRmB39cxwUnh5CGXj100MQuG4LYrgoVi/JHHvl8nshsQUyVECXgHrbWCaczm6Axpp0uQmOhwzJiv7v22TcHw7GbIH51GZjuImaWzcgQu5GTofWx04eTCBQxsT0Hvs0QPMmJiur59bBNntVYp25Ns0iQ2myTAscfaTGMqZbXJNI9Rcb2E2gg1UFMJQzbtQtjc8bmY66Udj59VF7Jt8XJDJdeggesk7vOzDFdKG46vl14Liw8AbGpboh4KWl444OWPtxPF8EMfamMESsYsnjzlP7BXn7j398gHBXhmG9a3M6PS7yw/FvE9gjFI+NPGf9USruBtcvYEguywHh2i2Y0/FyDgG9f3Yt+LWQjiv90w1gnEjP6yPARboFaXuw0y42DMvGbXuCYAZKCzkWgIuKJObiIKBNo9uASJ1nWt9B0KPDJrHAG352B4zJ3q6+bjjcQjYZ4+ann1bL0VcVU0bexhGyAoeDuyYmgos=212FD3x19z9sWBHDJACbC00B75E\"\n",
    "\n",
    "c = td.TDClient(client_id=client_id, refresh_token=refresh_token)"
   ]
  },
  {
   "cell_type": "code",
   "execution_count": 60,
   "metadata": {},
   "outputs": [],
   "source": [
    "df = c.optionsDF(\"WRB\",contractType='CALL', strikeCount=25, includeQuotes=True, strategy='SINGLE', interval=None, strike=None, range='ALL', fromDate=\"2020-12-17\", toDate=\"2020-12-19\", volatility=None, underlyingPrice=None, interestRate=None, daysToExpiration=None, expMonth='ALL', optionType='ALL')"
   ]
  },
  {
   "cell_type": "code",
   "execution_count": 63,
   "metadata": {},
   "outputs": [],
   "source": [
    "narrow_df =  df[[\"strikePrice\",\"delta\",\"volatility\",\"bid\",\"ask\",\"closePrice\"]][(df[\"delta\"]>0.7) & (df[\"delta\"]<0.71)]"
   ]
  },
  {
   "cell_type": "code",
   "execution_count": 67,
   "metadata": {},
   "outputs": [],
   "source": [
    "delta_est = 0.70\n",
    "\n",
    "idx = df['delta'].sub(delta_est).abs().idxmin()\n",
    "filtered_df = narrow_df.loc[[idx]]\n",
    "float(filtered_df[\"volatility\"])"
   ]
  },
  {
   "cell_type": "code",
   "execution_count": 1,
   "metadata": {},
   "outputs": [],
   "source": [
    "from screener import scan"
   ]
  },
  {
   "cell_type": "code",
   "execution_count": 9,
   "metadata": {},
   "outputs": [
    {
     "output_type": "execute_result",
     "data": {
      "text/plain": [
       "['BBY', 'JNJ', 'K', 'NVR', 'SPGI', 'VRSK']"
      ]
     },
     "metadata": {},
     "execution_count": 9
    }
   ],
   "source": [
    "list(fk2['Symbol'])"
   ]
  },
  {
   "cell_type": "code",
   "execution_count": 2,
   "metadata": {
    "tags": [
     "outputPrepend"
    ]
   },
   "outputs": [
    {
     "output_type": "stream",
     "name": "stdout",
     "text": [
      "***************100%***********************]  1 of 1 completed\n",
      "HFC\n",
      "[*********************100%***********************]  1 of 1 completed\n",
      "HOLX\n",
      "[*********************100%***********************]  1 of 1 completed\n",
      "HD\n",
      "[*********************100%***********************]  1 of 1 completed\n",
      "HON\n",
      "[*********************100%***********************]  1 of 1 completed\n",
      "HRL\n",
      "[*********************100%***********************]  1 of 1 completed\n",
      "HST\n",
      "[*********************100%***********************]  1 of 1 completed\n",
      "HPQ\n",
      "[*********************100%***********************]  1 of 1 completed\n",
      "HUM\n",
      "[*********************100%***********************]  1 of 1 completed\n",
      "HBAN\n",
      "[*********************100%***********************]  1 of 1 completed\n",
      "HII\n",
      "[*********************100%***********************]  1 of 1 completed\n",
      "IEX\n",
      "[*********************100%***********************]  1 of 1 completed\n",
      "IDXX\n",
      "[*********************100%***********************]  1 of 1 completed\n",
      "INFO\n",
      "[*********************100%***********************]  1 of 1 completed\n",
      "ITW\n",
      "[*********************100%***********************]  1 of 1 completed\n",
      "ILMN\n",
      "[*********************100%***********************]  1 of 1 completed\n",
      "IR\n",
      "[*********************100%***********************]  1 of 1 completed\n",
      "INTC\n",
      "[*********************100%***********************]  1 of 1 completed\n",
      "ICE\n",
      "[*********************100%***********************]  1 of 1 completed\n",
      "IBM\n",
      "[*********************100%***********************]  1 of 1 completed\n",
      "INCY\n",
      "[*********************100%***********************]  1 of 1 completed\n",
      "IP\n",
      "[*********************100%***********************]  1 of 1 completed\n",
      "IPG\n",
      "[*********************100%***********************]  1 of 1 completed\n",
      "IFF\n",
      "[*********************100%***********************]  1 of 1 completed\n",
      "INTU\n",
      "[*********************100%***********************]  1 of 1 completed\n",
      "ISRG\n",
      "[*********************100%***********************]  1 of 1 completed\n",
      "IVZ\n",
      "[*********************100%***********************]  1 of 1 completed\n",
      "IPGP\n",
      "[*********************100%***********************]  1 of 1 completed\n",
      "IQV\n",
      "[*********************100%***********************]  1 of 1 completed\n",
      "IRM\n",
      "[*********************100%***********************]  1 of 1 completed\n",
      "JKHY\n",
      "[*********************100%***********************]  1 of 1 completed\n",
      "J\n",
      "[*********************100%***********************]  1 of 1 completed\n",
      "JBHT\n",
      "[*********************100%***********************]  1 of 1 completed\n",
      "SJM\n",
      "[*********************100%***********************]  1 of 1 completed\n",
      "JNJ\n",
      "[*********************100%***********************]  1 of 1 completed\n",
      "JCI\n",
      "[*********************100%***********************]  1 of 1 completed\n",
      "JPM\n",
      "[*********************100%***********************]  1 of 1 completed\n",
      "JNPR\n",
      "[*********************100%***********************]  1 of 1 completed\n",
      "KSU\n",
      "[*********************100%***********************]  1 of 1 completed\n",
      "K\n",
      "[*********************100%***********************]  1 of 1 completed\n",
      "KEY\n",
      "[*********************100%***********************]  1 of 1 completed\n",
      "KEYS\n",
      "[*********************100%***********************]  1 of 1 completed\n",
      "KMB\n",
      "[*********************100%***********************]  1 of 1 completed\n",
      "KIM\n",
      "[*********************100%***********************]  1 of 1 completed\n",
      "KMI\n",
      "[*********************100%***********************]  1 of 1 completed\n",
      "KLAC\n",
      "[*********************100%***********************]  1 of 1 completed\n",
      "KSS\n",
      "[*********************100%***********************]  1 of 1 completed\n",
      "KHC\n",
      "[*********************100%***********************]  1 of 1 completed\n",
      "KR\n",
      "[*********************100%***********************]  1 of 1 completed\n",
      "LB\n",
      "[*********************100%***********************]  1 of 1 completed\n",
      "LHX\n",
      "[*********************100%***********************]  1 of 1 completed\n",
      "LH\n",
      "[*********************100%***********************]  1 of 1 completed\n",
      "LRCX\n",
      "[*********************100%***********************]  1 of 1 completed\n",
      "LW\n",
      "[*********************100%***********************]  1 of 1 completed\n",
      "LVS\n",
      "[*********************100%***********************]  1 of 1 completed\n",
      "LEG\n",
      "[*********************100%***********************]  1 of 1 completed\n",
      "LDOS\n",
      "[*********************100%***********************]  1 of 1 completed\n",
      "LEN\n",
      "[*********************100%***********************]  1 of 1 completed\n",
      "LLY\n",
      "[*********************100%***********************]  1 of 1 completed\n",
      "LNC\n",
      "[*********************100%***********************]  1 of 1 completed\n",
      "LIN\n",
      "[*********************100%***********************]  1 of 1 completed\n",
      "LYV\n",
      "[*********************100%***********************]  1 of 1 completed\n",
      "LKQ\n",
      "[*********************100%***********************]  1 of 1 completed\n",
      "LMT\n",
      "[*********************100%***********************]  1 of 1 completed\n",
      "L\n",
      "[*********************100%***********************]  1 of 1 completed\n",
      "LOW\n",
      "[*********************100%***********************]  1 of 1 completed\n",
      "LYB\n",
      "[*********************100%***********************]  1 of 1 completed\n",
      "MTB\n",
      "[*********************100%***********************]  1 of 1 completed\n",
      "M\n",
      "[*********************100%***********************]  1 of 1 completed\n",
      "MRO\n",
      "[*********************100%***********************]  1 of 1 completed\n",
      "MPC\n",
      "[*********************100%***********************]  1 of 1 completed\n",
      "MKTX\n",
      "[*********************100%***********************]  1 of 1 completed\n",
      "MAR\n",
      "[*********************100%***********************]  1 of 1 completed\n",
      "MMC\n",
      "[*********************100%***********************]  1 of 1 completed\n",
      "MLM\n",
      "[*********************100%***********************]  1 of 1 completed\n",
      "MAS\n",
      "[*********************100%***********************]  1 of 1 completed\n",
      "MA\n",
      "[*********************100%***********************]  1 of 1 completed\n",
      "MKC\n",
      "[*********************100%***********************]  1 of 1 completed\n",
      "MXIM\n",
      "[*********************100%***********************]  1 of 1 completed\n",
      "MCD\n",
      "[*********************100%***********************]  1 of 1 completed\n",
      "MCK\n",
      "[*********************100%***********************]  1 of 1 completed\n",
      "MDT\n",
      "[*********************100%***********************]  1 of 1 completed\n",
      "MRK\n",
      "[*********************100%***********************]  1 of 1 completed\n",
      "MET\n",
      "[*********************100%***********************]  1 of 1 completed\n",
      "MTD\n",
      "[*********************100%***********************]  1 of 1 completed\n",
      "MGM\n",
      "[*********************100%***********************]  1 of 1 completed\n",
      "MCHP\n",
      "[*********************100%***********************]  1 of 1 completed\n",
      "MU\n",
      "[*********************100%***********************]  1 of 1 completed\n",
      "MSFT\n",
      "[*********************100%***********************]  1 of 1 completed\n",
      "MAA\n",
      "[*********************100%***********************]  1 of 1 completed\n",
      "MHK\n",
      "[*********************100%***********************]  1 of 1 completed\n",
      "TAP\n",
      "[*********************100%***********************]  1 of 1 completed\n",
      "MDLZ\n",
      "[*********************100%***********************]  1 of 1 completed\n",
      "MNST\n",
      "[*********************100%***********************]  1 of 1 completed\n",
      "MCO\n",
      "[*********************100%***********************]  1 of 1 completed\n",
      "MS\n",
      "[*********************100%***********************]  1 of 1 completed\n",
      "MOS\n",
      "[*********************100%***********************]  1 of 1 completed\n",
      "MSI\n",
      "[*********************100%***********************]  1 of 1 completed\n",
      "MSCI\n",
      "[*********************100%***********************]  1 of 1 completed\n",
      "MYL\n",
      "[*********************100%***********************]  1 of 1 completed\n",
      "NDAQ\n",
      "[*********************100%***********************]  1 of 1 completed\n",
      "NOV\n",
      "[*********************100%***********************]  1 of 1 completed\n",
      "NTAP\n",
      "[*********************100%***********************]  1 of 1 completed\n",
      "NFLX\n",
      "[*********************100%***********************]  1 of 1 completed\n",
      "NWL\n",
      "[*********************100%***********************]  1 of 1 completed\n",
      "NEM\n",
      "[*********************100%***********************]  1 of 1 completed\n",
      "NWSA\n",
      "[*********************100%***********************]  1 of 1 completed\n",
      "NWS\n",
      "[*********************100%***********************]  1 of 1 completed\n",
      "NEE\n",
      "[*********************100%***********************]  1 of 1 completed\n",
      "NLSN\n",
      "[*********************100%***********************]  1 of 1 completed\n",
      "NKE\n",
      "[*********************100%***********************]  1 of 1 completed\n",
      "NI\n",
      "[*********************100%***********************]  1 of 1 completed\n",
      "NBL\n",
      "[*********************100%***********************]  1 of 1 completed\n",
      "JWN\n",
      "[*********************100%***********************]  1 of 1 completed\n",
      "NSC\n",
      "[*********************100%***********************]  1 of 1 completed\n",
      "NTRS\n",
      "[*********************100%***********************]  1 of 1 completed\n",
      "NOC\n",
      "[*********************100%***********************]  1 of 1 completed\n",
      "NLOK\n",
      "[*********************100%***********************]  1 of 1 completed\n",
      "NCLH\n",
      "[*********************100%***********************]  1 of 1 completed\n",
      "NRG\n",
      "[*********************100%***********************]  1 of 1 completed\n",
      "NUE\n",
      "[*********************100%***********************]  1 of 1 completed\n",
      "NVDA\n",
      "[*********************100%***********************]  1 of 1 completed\n",
      "NVR\n",
      "[*********************100%***********************]  1 of 1 completed\n",
      "ORLY\n",
      "[*********************100%***********************]  1 of 1 completed\n",
      "OXY\n",
      "[*********************100%***********************]  1 of 1 completed\n",
      "ODFL\n",
      "[*********************100%***********************]  1 of 1 completed\n",
      "OMC\n",
      "[*********************100%***********************]  1 of 1 completed\n",
      "OKE\n",
      "[*********************100%***********************]  1 of 1 completed\n",
      "ORCL\n",
      "[*********************100%***********************]  1 of 1 completed\n",
      "PCAR\n",
      "[*********************100%***********************]  1 of 1 completed\n",
      "PKG\n",
      "[*********************100%***********************]  1 of 1 completed\n",
      "PH\n",
      "[*********************100%***********************]  1 of 1 completed\n",
      "PAYX\n",
      "[*********************100%***********************]  1 of 1 completed\n",
      "PYPL\n",
      "[*********************100%***********************]  1 of 1 completed\n",
      "PNR\n",
      "[*********************100%***********************]  1 of 1 completed\n",
      "PBCT\n",
      "[*********************100%***********************]  1 of 1 completed\n",
      "PEP\n",
      "[*********************100%***********************]  1 of 1 completed\n",
      "PKI\n",
      "[*********************100%***********************]  1 of 1 completed\n",
      "PRGO\n",
      "[*********************100%***********************]  1 of 1 completed\n",
      "PFE\n",
      "[*********************100%***********************]  1 of 1 completed\n",
      "PM\n",
      "[*********************100%***********************]  1 of 1 completed\n",
      "PSX\n",
      "[*********************100%***********************]  1 of 1 completed\n",
      "PNW\n",
      "[*********************100%***********************]  1 of 1 completed\n",
      "PXD\n",
      "[*********************100%***********************]  1 of 1 completed\n",
      "PNC\n",
      "[*********************100%***********************]  1 of 1 completed\n",
      "PPG\n",
      "[*********************100%***********************]  1 of 1 completed\n",
      "PPL\n",
      "[*********************100%***********************]  1 of 1 completed\n",
      "PFG\n",
      "[*********************100%***********************]  1 of 1 completed\n",
      "PG\n",
      "[*********************100%***********************]  1 of 1 completed\n",
      "PGR\n",
      "[*********************100%***********************]  1 of 1 completed\n",
      "PLD\n",
      "[*********************100%***********************]  1 of 1 completed\n",
      "PRU\n",
      "[*********************100%***********************]  1 of 1 completed\n",
      "PEG\n",
      "[*********************100%***********************]  1 of 1 completed\n",
      "PSA\n",
      "[*********************100%***********************]  1 of 1 completed\n",
      "PHM\n",
      "[*********************100%***********************]  1 of 1 completed\n",
      "PVH\n",
      "[*********************100%***********************]  1 of 1 completed\n",
      "QRVO\n",
      "[*********************100%***********************]  1 of 1 completed\n",
      "PWR\n",
      "[*********************100%***********************]  1 of 1 completed\n",
      "QCOM\n",
      "[*********************100%***********************]  1 of 1 completed\n",
      "DGX\n",
      "[*********************100%***********************]  1 of 1 completed\n",
      "RL\n",
      "[*********************100%***********************]  1 of 1 completed\n",
      "RJF\n",
      "[*********************100%***********************]  1 of 1 completed\n",
      "RTN\n",
      "[*********************100%***********************]  1 of 1 completed\n",
      "\n",
      "1 Failed download:\n",
      "- RTN: No data found, symbol may be delisted\n",
      "O\n",
      "[*********************100%***********************]  1 of 1 completed\n",
      "REG\n",
      "[*********************100%***********************]  1 of 1 completed\n",
      "REGN\n",
      "[*********************100%***********************]  1 of 1 completed\n",
      "RF\n",
      "[*********************100%***********************]  1 of 1 completed\n",
      "RSG\n",
      "[*********************100%***********************]  1 of 1 completed\n",
      "RMD\n",
      "[*********************100%***********************]  1 of 1 completed\n",
      "RHI\n",
      "[*********************100%***********************]  1 of 1 completed\n",
      "ROK\n",
      "[*********************100%***********************]  1 of 1 completed\n",
      "ROL\n",
      "[*********************100%***********************]  1 of 1 completed\n",
      "ROP\n",
      "[*********************100%***********************]  1 of 1 completed\n",
      "ROST\n",
      "[*********************100%***********************]  1 of 1 completed\n",
      "RCL\n",
      "[*********************100%***********************]  1 of 1 completed\n",
      "SPGI\n",
      "[*********************100%***********************]  1 of 1 completed\n",
      "CRM\n",
      "[*********************100%***********************]  1 of 1 completed\n",
      "SBAC\n",
      "[*********************100%***********************]  1 of 1 completed\n",
      "SLB\n",
      "[*********************100%***********************]  1 of 1 completed\n",
      "STX\n",
      "[*********************100%***********************]  1 of 1 completed\n",
      "SEE\n",
      "[*********************100%***********************]  1 of 1 completed\n",
      "SRE\n",
      "[*********************100%***********************]  1 of 1 completed\n",
      "NOW\n",
      "[*********************100%***********************]  1 of 1 completed\n",
      "SHW\n",
      "[*********************100%***********************]  1 of 1 completed\n",
      "SPG\n",
      "[*********************100%***********************]  1 of 1 completed\n",
      "SWKS\n",
      "[*********************100%***********************]  1 of 1 completed\n",
      "SLG\n",
      "[*********************100%***********************]  1 of 1 completed\n",
      "SNA\n",
      "[*********************100%***********************]  1 of 1 completed\n",
      "SO\n",
      "[*********************100%***********************]  1 of 1 completed\n",
      "LUV\n",
      "[*********************100%***********************]  1 of 1 completed\n",
      "SWK\n",
      "[*********************100%***********************]  1 of 1 completed\n",
      "SBUX\n",
      "[*********************100%***********************]  1 of 1 completed\n",
      "STT\n",
      "[*********************100%***********************]  1 of 1 completed\n",
      "STE\n",
      "[*********************100%***********************]  1 of 1 completed\n",
      "SYK\n",
      "[*********************100%***********************]  1 of 1 completed\n",
      "SIVB\n",
      "[*********************100%***********************]  1 of 1 completed\n",
      "SYF\n",
      "[*********************100%***********************]  1 of 1 completed\n",
      "SNPS\n",
      "[*********************100%***********************]  1 of 1 completed\n",
      "SYY\n",
      "[*********************100%***********************]  1 of 1 completed\n",
      "TMUS\n",
      "[*********************100%***********************]  1 of 1 completed\n",
      "TROW\n",
      "[*********************100%***********************]  1 of 1 completed\n",
      "TTWO\n",
      "[*********************100%***********************]  1 of 1 completed\n",
      "TPR\n",
      "[*********************100%***********************]  1 of 1 completed\n",
      "TGT\n",
      "[*********************100%***********************]  1 of 1 completed\n",
      "TEL\n",
      "[*********************100%***********************]  1 of 1 completed\n",
      "FTI\n",
      "[*********************100%***********************]  1 of 1 completed\n",
      "TFX\n",
      "[*********************100%***********************]  1 of 1 completed\n",
      "TXN\n",
      "[*********************100%***********************]  1 of 1 completed\n",
      "TXT\n",
      "[*********************100%***********************]  1 of 1 completed\n",
      "TMO\n",
      "[*********************100%***********************]  1 of 1 completed\n",
      "TIF\n",
      "[*********************100%***********************]  1 of 1 completed\n",
      "TJX\n",
      "[*********************100%***********************]  1 of 1 completed\n",
      "TSCO\n",
      "[*********************100%***********************]  1 of 1 completed\n",
      "TDG\n",
      "[*********************100%***********************]  1 of 1 completed\n",
      "TRV\n",
      "[*********************100%***********************]  1 of 1 completed\n",
      "TFC\n",
      "[*********************100%***********************]  1 of 1 completed\n",
      "TWTR\n",
      "[*********************100%***********************]  1 of 1 completed\n",
      "TSN\n",
      "[*********************100%***********************]  1 of 1 completed\n",
      "UDR\n",
      "[*********************100%***********************]  1 of 1 completed\n",
      "ULTA\n",
      "[*********************100%***********************]  1 of 1 completed\n",
      "USB\n",
      "[*********************100%***********************]  1 of 1 completed\n",
      "UAA\n",
      "[*********************100%***********************]  1 of 1 completed\n",
      "UA\n",
      "[*********************100%***********************]  1 of 1 completed\n",
      "UNP\n",
      "[*********************100%***********************]  1 of 1 completed\n",
      "UAL\n",
      "[*********************100%***********************]  1 of 1 completed\n",
      "UNH\n",
      "[*********************100%***********************]  1 of 1 completed\n",
      "UPS\n",
      "[*********************100%***********************]  1 of 1 completed\n",
      "URI\n",
      "[*********************100%***********************]  1 of 1 completed\n",
      "UTX\n",
      "[*********************100%***********************]  1 of 1 completed\n",
      "\n",
      "1 Failed download:\n",
      "- UTX: No data found, symbol may be delisted\n",
      "UHS\n",
      "[*********************100%***********************]  1 of 1 completed\n",
      "UNM\n",
      "[*********************100%***********************]  1 of 1 completed\n",
      "VFC\n",
      "[*********************100%***********************]  1 of 1 completed\n",
      "VLO\n",
      "[*********************100%***********************]  1 of 1 completed\n",
      "VAR\n",
      "[*********************100%***********************]  1 of 1 completed\n",
      "VTR\n",
      "[*********************100%***********************]  1 of 1 completed\n",
      "VRSN\n",
      "[*********************100%***********************]  1 of 1 completed\n",
      "VRSK\n",
      "[*********************100%***********************]  1 of 1 completed\n",
      "VZ\n",
      "[*********************100%***********************]  1 of 1 completed\n",
      "VRTX\n",
      "[*********************100%***********************]  1 of 1 completed\n",
      "VIAC\n",
      "[*********************100%***********************]  1 of 1 completed\n",
      "V\n",
      "[*********************100%***********************]  1 of 1 completed\n",
      "VNO\n",
      "[*********************100%***********************]  1 of 1 completed\n",
      "VMC\n",
      "[*********************100%***********************]  1 of 1 completed\n",
      "WRB\n",
      "[*********************100%***********************]  1 of 1 completed\n",
      "WAB\n",
      "[*********************100%***********************]  1 of 1 completed\n",
      "WMT\n",
      "[*********************100%***********************]  1 of 1 completed\n",
      "WBA\n",
      "[*********************100%***********************]  1 of 1 completed\n",
      "DIS\n",
      "[*********************100%***********************]  1 of 1 completed\n",
      "WM\n",
      "[*********************100%***********************]  1 of 1 completed\n",
      "WAT\n",
      "[*********************100%***********************]  1 of 1 completed\n",
      "WEC\n",
      "[*********************100%***********************]  1 of 1 completed\n",
      "WCG\n",
      "[*********************100%***********************]  1 of 1 completed\n",
      "\n",
      "1 Failed download:\n",
      "- WCG: No data found, symbol may be delisted\n",
      "WFC\n",
      "[*********************100%***********************]  1 of 1 completed\n",
      "WELL\n",
      "[*********************100%***********************]  1 of 1 completed\n",
      "WDC\n",
      "[*********************100%***********************]  1 of 1 completed\n",
      "WU\n",
      "[*********************100%***********************]  1 of 1 completed\n",
      "WRK\n",
      "[*********************100%***********************]  1 of 1 completed\n",
      "WY\n",
      "[*********************100%***********************]  1 of 1 completed\n",
      "WHR\n",
      "[*********************100%***********************]  1 of 1 completed\n",
      "WMB\n",
      "[*********************100%***********************]  1 of 1 completed\n",
      "WLTW\n",
      "[*********************100%***********************]  1 of 1 completed\n",
      "WYNN\n",
      "[*********************100%***********************]  1 of 1 completed\n",
      "XEL\n",
      "[*********************100%***********************]  1 of 1 completed\n",
      "XRX\n",
      "[*********************100%***********************]  1 of 1 completed\n",
      "XLNX\n",
      "[*********************100%***********************]  1 of 1 completed\n",
      "XYL\n",
      "[*********************100%***********************]  1 of 1 completed\n",
      "YUM\n",
      "[*********************100%***********************]  1 of 1 completed\n",
      "ZBRA\n",
      "[*********************100%***********************]  1 of 1 completed\n",
      "ZBH\n",
      "[*********************100%***********************]  1 of 1 completed\n",
      "ZION\n",
      "[*********************100%***********************]  1 of 1 completed\n",
      "ZTS\n",
      "[*********************100%***********************]  1 of 1 completed\n"
     ]
    }
   ],
   "source": [
    "fk1, fk2, fk3 = scan(\"sp500.csv\",\"2020-01-01\",\"2020-11-25\")"
   ]
  },
  {
   "cell_type": "code",
   "execution_count": 10,
   "metadata": {},
   "outputs": [
    {
     "output_type": "execute_result",
     "data": {
      "text/plain": [
       "  Symbol           SL           TP  Squeeze\n",
       "0    BBY   118.531702   103.556598    False\n",
       "1    JNJ   147.439297   136.731392    False\n",
       "2      K    64.437701    58.534602    False\n",
       "3    NVR  4383.563738  3718.961880     True\n",
       "4   SPGI   347.180993   308.267989    False\n",
       "5   VRSK   201.638191   180.163605    False"
      ],
      "text/html": "<div>\n<style scoped>\n    .dataframe tbody tr th:only-of-type {\n        vertical-align: middle;\n    }\n\n    .dataframe tbody tr th {\n        vertical-align: top;\n    }\n\n    .dataframe thead th {\n        text-align: right;\n    }\n</style>\n<table border=\"1\" class=\"dataframe\">\n  <thead>\n    <tr style=\"text-align: right;\">\n      <th></th>\n      <th>Symbol</th>\n      <th>SL</th>\n      <th>TP</th>\n      <th>Squeeze</th>\n    </tr>\n  </thead>\n  <tbody>\n    <tr>\n      <th>0</th>\n      <td>BBY</td>\n      <td>118.531702</td>\n      <td>103.556598</td>\n      <td>False</td>\n    </tr>\n    <tr>\n      <th>1</th>\n      <td>JNJ</td>\n      <td>147.439297</td>\n      <td>136.731392</td>\n      <td>False</td>\n    </tr>\n    <tr>\n      <th>2</th>\n      <td>K</td>\n      <td>64.437701</td>\n      <td>58.534602</td>\n      <td>False</td>\n    </tr>\n    <tr>\n      <th>3</th>\n      <td>NVR</td>\n      <td>4383.563738</td>\n      <td>3718.961880</td>\n      <td>True</td>\n    </tr>\n    <tr>\n      <th>4</th>\n      <td>SPGI</td>\n      <td>347.180993</td>\n      <td>308.267989</td>\n      <td>False</td>\n    </tr>\n    <tr>\n      <th>5</th>\n      <td>VRSK</td>\n      <td>201.638191</td>\n      <td>180.163605</td>\n      <td>False</td>\n    </tr>\n  </tbody>\n</table>\n</div>"
     },
     "metadata": {},
     "execution_count": 10
    }
   ],
   "source": [
    "fk2"
   ]
  },
  {
   "cell_type": "code",
   "execution_count": null,
   "metadata": {},
   "outputs": [],
   "source": []
  }
 ]
}